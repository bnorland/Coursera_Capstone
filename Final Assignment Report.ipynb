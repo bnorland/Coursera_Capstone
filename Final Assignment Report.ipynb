{
    "cells": [
        {
            "cell_type": "markdown",
            "metadata": {
                "collapsed": true
            },
            "source": "## Introduction\n\nThis project will seek to find the best location to open a new restaurant in Dublin, Ireland.\n\nA friend of mine is a chef, and is keen to open a new restaurant in Dublin. She is quite flexible in her style of cooking, and is keen to understand what types of restaurant are most popular in the city to inform her plans. She would also like to find an area of the city in which to locate the restaurant. Ideally this should be somewhere with a number of other restaurants and amenities to provide footfall, but where her chosen style of restaurant has a chance to stand out from the crowd. She has asked me to look at Foursquare data to provide some recommendations."
        },
        {
            "cell_type": "markdown",
            "metadata": {},
            "source": "## Data\n\nFor this analysis, I will use a csv file containing information on Dublin postal districts to define the different areas of the city, and data from the Foursquare API to get information on restaurants and other amenities in each district. Using this data, I will identify:\n\n- The most popular restaurant styles in the city as a whole, informing my friend's choice for her own restaurant\n- The areas of the city with the highest density of restaurants and amenities\n- Among these, districts that have a gap for my friend's chosen cuisine style\n\nI will also cluster the districts based on their most common venues, to provide alternative areas my friend might look at if it proves difficult to set up the restaurant in her preferred area."
        }
    ],
    "metadata": {
        "kernelspec": {
            "display_name": "Python 3.6",
            "language": "python",
            "name": "python3"
        },
        "language_info": {
            "codemirror_mode": {
                "name": "ipython",
                "version": 3
            },
            "file_extension": ".py",
            "mimetype": "text/x-python",
            "name": "python",
            "nbconvert_exporter": "python",
            "pygments_lexer": "ipython3",
            "version": "3.6.9"
        }
    },
    "nbformat": 4,
    "nbformat_minor": 1
}